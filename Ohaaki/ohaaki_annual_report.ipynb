{
 "cells": [
  {
   "cell_type": "markdown",
   "metadata": {},
   "source": [
    "Ohaaki Annual Seismic Report for Contact Energy\n",
    "--\n",
    "**Now July 1 to June 30**"
   ]
  },
  {
   "cell_type": "code",
   "execution_count": null,
   "metadata": {},
   "outputs": [],
   "source": [
    "import pandas as pd\n",
    "\n",
    "import matplotlib.pyplot as plt\n",
    "import matplotlib.gridspec as gridspec\n",
    "import matplotlib as mpl\n",
    "from matplotlib.transforms import offset_copy\n",
    "from matplotlib import patheffects\n",
    "import matplotlib.ticker as mticker\n",
    "\n",
    "import numpy as np\n",
    "\n",
    "import cartopy.crs as ccrs\n",
    "import cartopy.io.img_tiles as cimgt\n",
    "from cartopy.io.img_tiles import OSM\n",
    "from cartopy.io.img_tiles import Stamen\n",
    "\n",
    "import warnings; warnings.simplefilter('ignore')\n",
    "\n",
    "%matplotlib inline"
   ]
  },
  {
   "cell_type": "markdown",
   "metadata": {},
   "source": [
    "**Functions for scale bar**\n",
    "\n",
    "This is a new scale_bar function from https://stackoverflow.com/questions/32333870/how-can-i-show-a-km-ruler-on-a-cartopy-matplotlib-plot as the last one started to give an error I couldn't understand"
   ]
  },
  {
   "cell_type": "code",
   "execution_count": null,
   "metadata": {},
   "outputs": [],
   "source": [
    "def scale_bar(ax, length=None, location=(0.5, 0.05), linewidth=3):\n",
    "    \"\"\"\n",
    "    ax is the axes to draw the scalebar on.\n",
    "    length is the length of the scalebar in km.\n",
    "    location is center of the scalebar in axis coordinates.\n",
    "    (ie. 0.5 is the middle of the plot)\n",
    "    linewidth is the thickness of the scalebar.\n",
    "    \"\"\"\n",
    "    #Get the limits of the axis in lat long\n",
    "    llx0, llx1, lly0, lly1 = ax.get_extent(ccrs.PlateCarree())\n",
    "    #Make tmc horizontally centred on the middle of the map,\n",
    "    #vertically at scale bar location\n",
    "    sbllx = (llx1 + llx0) / 2\n",
    "    sblly = lly0 + (lly1 - lly0) * location[1]\n",
    "    tmc = ccrs.TransverseMercator(sbllx, sblly)\n",
    "    #Get the extent of the plotted area in coordinates in metres\n",
    "    x0, x1, y0, y1 = ax.get_extent(tmc)\n",
    "    #Turn the specified scalebar location into coordinates in metres\n",
    "    sbx = x0 + (x1 - x0) * location[0]\n",
    "    sby = y0 + (y1 - y0) * location[1]\n",
    "\n",
    "    #Calculate a scale bar length if none has been given\n",
    "    #(Theres probably a more pythonic way of rounding the number but this works)\n",
    "    if not length: \n",
    "        length = (x1 - x0) / 5000 #in km\n",
    "        ndim = int(np.floor(np.log10(length))) #number of digits in number\n",
    "        length = round(length, -ndim) #round to 1sf\n",
    "        #Returns numbers starting with the list\n",
    "        def scale_number(x):\n",
    "            if str(x)[0] in ['1', '2', '5']: return int(x)        \n",
    "            else: return scale_number(x - 10 ** ndim)\n",
    "        length = scale_number(length) \n",
    "\n",
    "    #Generate the x coordinate for the ends of the scalebar\n",
    "    bar_xs = [sbx - length * 500, sbx + length * 500]\n",
    "    #Plot the scalebar\n",
    "    ax.plot(bar_xs, [sby, sby], transform=tmc, color='k', linewidth=linewidth)\n",
    "    #Plot the scalebar label\n",
    "    ax.text(sbx, sby, str(length) + ' km', transform=tmc,\n",
    "            horizontalalignment='center', verticalalignment='bottom')"
   ]
  },
  {
   "cell_type": "code",
   "execution_count": null,
   "metadata": {},
   "outputs": [],
   "source": [
    "# def utm_from_lon(lon):\n",
    "#     \"\"\"\n",
    "#     utm_from_lon - UTM zone for a longitude\n",
    "\n",
    "#     Not right for some polar regions (Norway, Svalbard, Antartica)\n",
    "\n",
    "#     :param float lon: longitude\n",
    "#     :return: UTM zone number\n",
    "#     :rtype: int\n",
    "#     \"\"\"\n",
    "#     return np.floor( ( lon + 180 ) / 6) + 1\n",
    "\n",
    "# def scale_bar(ax, proj, length, location=(0.5, 0.05), linewidth=3,\n",
    "#               units='km', m_per_unit=1000):\n",
    "#     \"\"\"\n",
    "\n",
    "#     http://stackoverflow.com/a/35705477/1072212\n",
    "#     ax is the axes to draw the scalebar on.\n",
    "#     proj is the projection the axes are in\n",
    "#     location is center of the scalebar in axis coordinates ie. 0.5 is the middle of the plot\n",
    "#     length is the length of the scalebar in km.\n",
    "#     linewidth is the thickness of the scalebar.\n",
    "#     units is the name of the unit\n",
    "#     m_per_unit is the number of meters in a unit\n",
    "#     \"\"\"\n",
    "#     # find lat/lon center to find best UTM zone\n",
    "#     x0, x1, y0, y1 = ax.get_extent(proj.as_geodetic())\n",
    "#     # Projection in metres\n",
    "#     utm = ccrs.UTM(utm_from_lon((x0+x1)/2))\n",
    "#     # Get the extent of the plotted area in coordinates in metres\n",
    "#     x0, x1, y0, y1 = ax.get_extent(utm)\n",
    "#     # Turn the specified scalebar location into coordinates in metres\n",
    "#     sbcx, sbcy = x0 + (x1 - x0) * location[0], y0 + (y1 - y0) * location[1]\n",
    "#     # Generate the x coordinate for the ends of the scalebar\n",
    "#     bar_xs = [sbcx - length * m_per_unit/2, sbcx + length * m_per_unit/2]\n",
    "#     # buffer for scalebar\n",
    "#     buffer = [patheffects.withStroke(linewidth=5, foreground=\"w\")]\n",
    "#     # Plot the scalebar with buffer\n",
    "#     ax.plot(bar_xs, [sbcy, sbcy], transform=utm, color='k',\n",
    "#         linewidth=linewidth, path_effects=buffer)\n",
    "#     # buffer for text\n",
    "#     buffer = [patheffects.withStroke(linewidth=3, foreground=\"w\")]\n",
    "#     # Plot the scalebar label\n",
    "#     t0 = ax.text(sbcx, sbcy, str(length) + ' ' + units, transform=utm,\n",
    "#         horizontalalignment='center', verticalalignment='bottom',\n",
    "#         path_effects=buffer, zorder=2)\n",
    "#     left = x0+(x1-x0)*0.05\n",
    "#     # Plot the N arrow\n",
    "#     t1 = ax.text(left, sbcy, u'\\u25B2\\nN', transform=utm,\n",
    "#         horizontalalignment='center', verticalalignment='bottom',\n",
    "#         path_effects=buffer, zorder=2)\n",
    "#     # Plot the scalebar without buffer, in case covered by text buffer\n",
    "#     ax.plot(bar_xs, [sbcy, sbcy], transform=utm, color='k',\n",
    "#         linewidth=linewidth, zorder=3)\n",
    "    \n",
    "# # or to use m instead of km\n",
    "# # scale_bar(ax, ccrs.Mercator(), 100000, m_per_unit=1, units='m')\n",
    "# # or to use miles instead of km\n",
    "# # scale_bar(ax, ccrs.Mercator(), 60, m_per_unit=1609.34, units='miles')\n",
    "\n",
    "# #need specific font to show triangle for north arrow\n",
    "# mpl.rc('font', family='DejaVu Sans')"
   ]
  },
  {
   "cell_type": "code",
   "execution_count": null,
   "metadata": {},
   "outputs": [],
   "source": [
    "#box for search and map area\n",
    "bbox = '176.2667,-38.5667,176.3500,-38.4833'\n",
    "lonmin = 176.2667\n",
    "lonmax = 176.3500\n",
    "latmin = -38.5667\n",
    "latmax = -38.4833\n",
    "\n",
    "maxdepth = 20"
   ]
  },
  {
   "cell_type": "markdown",
   "metadata": {},
   "source": [
    "**Edit these lines to set the current year**"
   ]
  },
  {
   "cell_type": "code",
   "execution_count": null,
   "metadata": {},
   "outputs": [],
   "source": [
    "startyear = '2021-07-01T00:00:00'\n",
    "endyear = '2022-07-01T00:00:00'\n",
    "\n",
    "#as well as annual data, show number of events since 2010\n",
    "startall = '2010-01-01T00:00:00'"
   ]
  },
  {
   "cell_type": "markdown",
   "metadata": {},
   "source": [
    "**Quake search, get all events since startall**"
   ]
  },
  {
   "cell_type": "code",
   "execution_count": null,
   "metadata": {},
   "outputs": [],
   "source": [
    "url = 'https://quakesearch.geonet.org.nz/csv?bbox='+bbox+'&startdate='+startall+'&enddate='+endyear+'&maxdepth='+str(maxdepth)"
   ]
  },
  {
   "cell_type": "code",
   "execution_count": null,
   "metadata": {},
   "outputs": [],
   "source": [
    "eqs = pd.read_csv(url, parse_dates=['origintime'], index_col='origintime')"
   ]
  },
  {
   "cell_type": "code",
   "execution_count": null,
   "metadata": {
    "tags": []
   },
   "outputs": [],
   "source": [
    "eqs.head()"
   ]
  },
  {
   "cell_type": "markdown",
   "metadata": {},
   "source": [
    "**Map for the reporting year**"
   ]
  },
  {
   "cell_type": "code",
   "execution_count": null,
   "metadata": {},
   "outputs": [],
   "source": [
    "#select just events with an origintime (index) in the reporting year\n",
    "eqsyr = eqs[(eqs.index>startyear)&(eqs.index<endyear)]"
   ]
  },
  {
   "cell_type": "code",
   "execution_count": null,
   "metadata": {},
   "outputs": [],
   "source": [
    "len(eqsyr)"
   ]
  },
  {
   "cell_type": "code",
   "execution_count": null,
   "metadata": {},
   "outputs": [],
   "source": [
    "eqsyr"
   ]
  },
  {
   "cell_type": "code",
   "execution_count": null,
   "metadata": {},
   "outputs": [],
   "source": [
    "eqsyr.to_csv('ohaaki_eqs.csv')"
   ]
  },
  {
   "cell_type": "code",
   "execution_count": null,
   "metadata": {},
   "outputs": [],
   "source": [
    "#plot map\n",
    "fig = plt.figure(dpi=200)\n",
    "\n",
    "#imagery\n",
    "imagery = OSM()\n",
    "# imagery = Stamen('terrain-background')\n",
    "ax = plt.axes(projection=imagery.crs)\n",
    "ax.set_extent([lonmin, lonmax, latmin, latmax])\n",
    "ax.add_image(imagery, 15)\n",
    "\n",
    "#hypocentres, symbol size=magnitude squared, as scatter symbol size is symbol area, square gives 'pleasing' image\n",
    "plt.scatter(eqsyr['longitude'], eqsyr['latitude'], color='red', marker='o', s=eqsyr['magnitude']**2, transform=ccrs.Geodetic())\n",
    "\n",
    "#power station text\n",
    "geodetic_transform = ccrs.Geodetic()._as_mpl_transform(ax)\n",
    "text_transform = offset_copy(geodetic_transform, units='dots', y=0)\n",
    "\n",
    "plt.text(176.2938, -38.5276, 'OP', verticalalignment='center', horizontalalignment='center', color='black', transform=text_transform, fontsize=4)\n",
    "\n",
    "scale_bar(ax, 2)\n",
    "plt.savefig('ohaaki_map.png', facecolor='white', bbox_inches='tight', dpi=400)"
   ]
  },
  {
   "cell_type": "markdown",
   "metadata": {},
   "source": [
    "**Basic summary table of events for reporting year**"
   ]
  },
  {
   "cell_type": "code",
   "execution_count": null,
   "metadata": {
    "tags": []
   },
   "outputs": [],
   "source": [
    "table = eqsyr[['latitude', 'longitude', 'depth', 'magnitude']].copy()\n",
    "table"
   ]
  },
  {
   "cell_type": "code",
   "execution_count": null,
   "metadata": {},
   "outputs": [],
   "source": [
    "table['magnitude'].describe()"
   ]
  },
  {
   "cell_type": "markdown",
   "metadata": {},
   "source": [
    "**Number of events each year, for a short table**"
   ]
  },
  {
   "cell_type": "code",
   "execution_count": null,
   "metadata": {},
   "outputs": [],
   "source": [
    "eqs['publicid'].resample('A', label='right', closed='left').count()"
   ]
  }
 ],
 "metadata": {
  "kernelspec": {
   "display_name": "mapping",
   "language": "python",
   "name": "mapping"
  },
  "language_info": {
   "codemirror_mode": {
    "name": "ipython",
    "version": 3
   },
   "file_extension": ".py",
   "mimetype": "text/x-python",
   "name": "python",
   "nbconvert_exporter": "python",
   "pygments_lexer": "ipython3",
   "version": "3.9.10"
  }
 },
 "nbformat": 4,
 "nbformat_minor": 4
}
